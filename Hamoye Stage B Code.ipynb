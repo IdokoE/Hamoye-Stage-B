{
 "cells": [
  {
   "cell_type": "code",
   "execution_count": 2,
   "id": "416b7f17",
   "metadata": {},
   "outputs": [],
   "source": [
    "import numpy as np\n",
    "import pandas as pd\n",
    "import seaborn as sns\n",
    "from sklearn.linear_model import LinearRegression\n",
    "%matplotlib inline\n",
    "import matplotlib.pyplot as plt"
   ]
  },
  {
   "cell_type": "code",
   "execution_count": 78,
   "id": "08f8557b",
   "metadata": {},
   "outputs": [],
   "source": [
    "path = pd.read_csv('https://archive.ics.uci.edu/ml/machine-learning-databases/00374/energydata_complete.csv')\n",
    "pd.set_option('display.max_columns', None)\n",
    "pd.set_option('display.max_rows', None)\n"
   ]
  },
  {
   "cell_type": "code",
   "execution_count": 7,
   "id": "b2014c58",
   "metadata": {},
   "outputs": [],
   "source": [
    "#Removing lights and date from column\n",
    "new_path = path.drop(columns = ['lights', 'date'])\n"
   ]
  },
  {
   "cell_type": "code",
   "execution_count": 15,
   "id": "2733c1a4",
   "metadata": {},
   "outputs": [],
   "source": [
    "from sklearn.preprocessing import MinMaxScaler\n",
    "scaler = MinMaxScaler()\n",
    "normalised_new_path = pd.DataFrame(scaler.fit_transform(new_path), columns=new_path.columns) "
   ]
  },
  {
   "cell_type": "code",
   "execution_count": 77,
   "id": "a0a6af59",
   "metadata": {},
   "outputs": [],
   "source": [
    "path_features = normalised_new_path.drop(columns=['Appliances'])\n",
    "appliances_target = normalised_new_path['Appliances']"
   ]
  },
  {
   "cell_type": "code",
   "execution_count": 18,
   "id": "86977c90",
   "metadata": {},
   "outputs": [],
   "source": [
    "# I want to create test-train-split now\n",
    "from sklearn.model_selection import train_test_split\n",
    "x_train, x_test, y_train, y_test = train_test_split(path_features, appliances_target, test_size = 0.3, random_state = 42)\n"
   ]
  },
  {
   "cell_type": "code",
   "execution_count": 19,
   "id": "9b8ff231",
   "metadata": {},
   "outputs": [
    {
     "data": {
      "text/plain": [
       "LinearRegression()"
      ]
     },
     "execution_count": 19,
     "metadata": {},
     "output_type": "execute_result"
    }
   ],
   "source": [
    "#To Linear regression now\n",
    "model = LinearRegression()\n",
    "model.fit(x_train, y_train)\n"
   ]
  },
  {
   "cell_type": "code",
   "execution_count": 26,
   "id": "910ce146",
   "metadata": {},
   "outputs": [
    {
     "data": {
      "text/plain": [
       "array([0.03322207, 0.24411599, 0.03400024, ..., 0.06844707, 0.10032325,\n",
       "       0.05722198])"
      ]
     },
     "execution_count": 26,
     "metadata": {},
     "output_type": "execute_result"
    }
   ],
   "source": [
    "#Let me see some result\n",
    "prediction = model.predict(x_test)\n",
    "prediction"
   ]
  },
  {
   "cell_type": "code",
   "execution_count": 22,
   "id": "4286e486",
   "metadata": {},
   "outputs": [
    {
     "name": "stdout",
     "output_type": "stream",
     "text": [
      "intercept 0.15290295882253085\n"
     ]
    }
   ],
   "source": [
    "#See intercept\n",
    "print(\"intercept\", model.intercept_)"
   ]
  },
  {
   "cell_type": "code",
   "execution_count": 24,
   "id": "00c0df4f",
   "metadata": {},
   "outputs": [
    {
     "name": "stdout",
     "output_type": "stream",
     "text": [
      "slope [-0.00328105  0.5535466  -0.23617792 -0.45669795  0.29062714  0.09604827\n",
      "  0.028981    0.02638578 -0.01565684  0.01600579  0.23642491  0.03804865\n",
      "  0.01031878 -0.04461364  0.10199505 -0.15759548 -0.18994077 -0.03980032\n",
      " -0.32185967  0.00683933 -0.07767065  0.02918313  0.01230661  0.11775773\n",
      "  0.0007701   0.0007701 ]\n"
     ]
    }
   ],
   "source": [
    "#Let me have a look at the slope\n",
    "print('slope', model.coef_)"
   ]
  },
  {
   "cell_type": "code",
   "execution_count": 25,
   "id": "f015164d",
   "metadata": {},
   "outputs": [
    {
     "data": {
      "text/plain": [
       "0.14890246319303535"
      ]
     },
     "execution_count": 25,
     "metadata": {},
     "output_type": "execute_result"
    }
   ],
   "source": [
    "#Let me check the R square value (coefficient of determination)\n",
    "r_sq = model.score(x_test, y_test)\n",
    "r_sq"
   ]
  },
  {
   "cell_type": "code",
   "execution_count": 27,
   "id": "915f0446",
   "metadata": {},
   "outputs": [
    {
     "name": "stdout",
     "output_type": "stream",
     "text": [
      "MAE 0.050133623977429535\n"
     ]
    }
   ],
   "source": [
    "from sklearn import metrics\n",
    "print('MAE', metrics.mean_absolute_error(y_test, prediction))"
   ]
  },
  {
   "cell_type": "code",
   "execution_count": 30,
   "id": "7ec013df",
   "metadata": {},
   "outputs": [
    {
     "name": "stdout",
     "output_type": "stream",
     "text": [
      "MSE 0.007658778867195367\n"
     ]
    }
   ],
   "source": [
    "print('MSE', metrics.mean_squared_error(y_test, prediction))"
   ]
  },
  {
   "cell_type": "code",
   "execution_count": 31,
   "id": "904e7420",
   "metadata": {},
   "outputs": [
    {
     "name": "stdout",
     "output_type": "stream",
     "text": [
      "RMSE 0.0875144494766171\n"
     ]
    }
   ],
   "source": [
    "print('RMSE', np.sqrt(metrics.mean_squared_error(y_test, prediction)))"
   ]
  },
  {
   "cell_type": "code",
   "execution_count": 32,
   "id": "a52ed647",
   "metadata": {},
   "outputs": [
    {
     "name": "stdout",
     "output_type": "stream",
     "text": [
      "R2 score 0.14890246319303535\n"
     ]
    }
   ],
   "source": [
    "print('R2 score', metrics.r2_score(y_test, prediction))"
   ]
  },
  {
   "cell_type": "code",
   "execution_count": 33,
   "id": "547c2474",
   "metadata": {},
   "outputs": [],
   "source": [
    "#Let me enter Ridge Regression\n",
    "from sklearn.linear_model import Ridge\n",
    "ridge_reg = Ridge(alpha=0.5)\n",
    "#fitting it\n",
    "ridge_reg.fit(x_train, y_train)\n",
    "predictionII = ridge_reg.predict(x_test)"
   ]
  },
  {
   "cell_type": "code",
   "execution_count": 34,
   "id": "518d194c",
   "metadata": {},
   "outputs": [
    {
     "name": "stdout",
     "output_type": "stream",
     "text": [
      "RMSE 0.08754118590838054\n"
     ]
    }
   ],
   "source": [
    "#Let me get some result\n",
    "print('RMSE', np.sqrt(metrics.mean_squared_error(y_test, predictionII)))"
   ]
  },
  {
   "cell_type": "code",
   "execution_count": 35,
   "id": "49372f3e",
   "metadata": {},
   "outputs": [
    {
     "name": "stdout",
     "output_type": "stream",
     "text": [
      "R2 Score 0.14838234823312768\n"
     ]
    }
   ],
   "source": [
    "print('R2 Score', metrics.r2_score(y_test, predictionII))"
   ]
  },
  {
   "cell_type": "code",
   "execution_count": 36,
   "id": "8dc020d3",
   "metadata": {},
   "outputs": [],
   "source": [
    "#Utilizing Alpha = 2\n",
    "ridge_regII = Ridge(alpha=2)\n",
    "#fitting it\n",
    "ridge_regII.fit(x_train, y_train)\n",
    "predictionIII = ridge_regII.predict(x_test)"
   ]
  },
  {
   "cell_type": "code",
   "execution_count": 37,
   "id": "ed76b2a1",
   "metadata": {},
   "outputs": [
    {
     "name": "stdout",
     "output_type": "stream",
     "text": [
      "RMSE 0.08768227713791653\n"
     ]
    }
   ],
   "source": [
    "#let me see result\n",
    "print('RMSE', np.sqrt(metrics.mean_squared_error(y_test, predictionIII)))"
   ]
  },
  {
   "cell_type": "code",
   "execution_count": 38,
   "id": "6528d845",
   "metadata": {},
   "outputs": [
    {
     "name": "stdout",
     "output_type": "stream",
     "text": [
      "R2 Score 0.14563501031152737\n"
     ]
    }
   ],
   "source": [
    "print('R2 Score', metrics.r2_score(y_test, predictionIII))"
   ]
  },
  {
   "cell_type": "code",
   "execution_count": 40,
   "id": "a7437921",
   "metadata": {},
   "outputs": [],
   "source": [
    "#Let me enter Lasso Regression now\n",
    "from sklearn.linear_model import Lasso\n",
    "lasso_reg = Lasso(alpha=0.001)\n",
    "#fit the lasso\n",
    "lasso_reg.fit(x_train,y_train)\n",
    "predictionIV = lasso_reg.predict(x_test)"
   ]
  },
  {
   "cell_type": "code",
   "execution_count": 41,
   "id": "52c70ede",
   "metadata": {},
   "outputs": [
    {
     "name": "stdout",
     "output_type": "stream",
     "text": [
      "RMSE 0.09358170467245137\n"
     ]
    }
   ],
   "source": [
    "#Let me see some result\n",
    "print('RMSE', np.sqrt(metrics.mean_squared_error(y_test, predictionIV)))"
   ]
  },
  {
   "cell_type": "code",
   "execution_count": 42,
   "id": "da846d5b",
   "metadata": {},
   "outputs": [
    {
     "name": "stdout",
     "output_type": "stream",
     "text": [
      "R2 Score 0.026800880567125818\n"
     ]
    }
   ],
   "source": [
    "print('R2 Score', metrics.r2_score(y_test, predictionIV))"
   ]
  },
  {
   "cell_type": "code",
   "execution_count": null,
   "id": "995e4d0c",
   "metadata": {},
   "outputs": [],
   "source": [
    "#Okay that's a great practice!!!"
   ]
  },
  {
   "cell_type": "code",
   "execution_count": null,
   "id": "92f92d56",
   "metadata": {},
   "outputs": [],
   "source": [
    "# HERE ARE WORKING TO QUIZ QUESTIONS"
   ]
  },
  {
   "cell_type": "code",
   "execution_count": 44,
   "id": "b5e3a144",
   "metadata": {},
   "outputs": [
    {
     "data": {
      "text/plain": [
       "<AxesSubplot:xlabel='T2', ylabel='T6'>"
      ]
     },
     "execution_count": 44,
     "metadata": {},
     "output_type": "execute_result"
    },
    {
     "data": {
      "image/png": "[encoded data removed]",
      "text/plain": [
       "<Figure size 432x288 with 1 Axes>"
      ]
     },
     "metadata": {
      "needs_background": "light"
     },
     "output_type": "display_data"
    }
   ],
   "source": [
    "from sklearn import linear_model\n",
    "linear_reg_path = path[['T2', 'T6']].sample(10, random_state = 2)\n",
    "sns.regplot(x='T2', y='T6', data = linear_reg_path, color = 'red', marker = '+')\n"
   ]
  },
  {
   "cell_type": "code",
   "execution_count": 53,
   "id": "b34c9151",
   "metadata": {},
   "outputs": [
    {
     "ename": "AttributeError",
     "evalue": "'LinearRegression' object has no attribute 'LinearRegression'",
     "output_type": "error",
     "traceback": [
      "\u001b[1;31m---------------------------------------------------------------------------\u001b[0m",
      "\u001b[1;31mAttributeError\u001b[0m                            Traceback (most recent call last)",
      "\u001b[1;32m<ipython-input-53-52f7f6654e59>\u001b[0m in \u001b[0;36m<module>\u001b[1;34m\u001b[0m\n\u001b[0;32m      1\u001b[0m \u001b[1;32mfrom\u001b[0m \u001b[0msklearn\u001b[0m \u001b[1;32mimport\u001b[0m \u001b[0mlinear_model\u001b[0m\u001b[1;33m\u001b[0m\u001b[1;33m\u001b[0m\u001b[0m\n\u001b[0;32m      2\u001b[0m \u001b[0mlinear_model\u001b[0m \u001b[1;33m=\u001b[0m \u001b[0mpath\u001b[0m\u001b[1;33m[\u001b[0m\u001b[1;33m[\u001b[0m\u001b[1;34m'T2'\u001b[0m\u001b[1;33m,\u001b[0m \u001b[1;34m'T6'\u001b[0m\u001b[1;33m]\u001b[0m\u001b[1;33m]\u001b[0m\u001b[1;33m.\u001b[0m\u001b[0msample\u001b[0m\u001b[1;33m(\u001b[0m\u001b[1;36m15\u001b[0m\u001b[1;33m,\u001b[0m \u001b[0mrandom_state\u001b[0m \u001b[1;33m=\u001b[0m \u001b[1;36m2\u001b[0m\u001b[1;33m)\u001b[0m\u001b[1;33m\u001b[0m\u001b[1;33m\u001b[0m\u001b[0m\n\u001b[1;32m----> 3\u001b[1;33m \u001b[0mmodel\u001b[0m\u001b[1;33m.\u001b[0m\u001b[0mLinearRegression\u001b[0m\u001b[1;33m(\u001b[0m\u001b[0mx\u001b[0m\u001b[1;33m=\u001b[0m\u001b[1;34m'T2'\u001b[0m\u001b[1;33m,\u001b[0m \u001b[0my\u001b[0m\u001b[1;33m=\u001b[0m\u001b[1;34m'T6'\u001b[0m\u001b[1;33m,\u001b[0m \u001b[0mdata\u001b[0m \u001b[1;33m=\u001b[0m \u001b[0mlinear_model\u001b[0m\u001b[1;33m)\u001b[0m\u001b[1;33m\u001b[0m\u001b[1;33m\u001b[0m\u001b[0m\n\u001b[0m",
      "\u001b[1;31mAttributeError\u001b[0m: 'LinearRegression' object has no attribute 'LinearRegression'"
     ]
    }
   ],
   "source": [
    "from sklearn import linear_model\n",
    "linear_model = path[['T2', 'T6']].sample(15, random_state = 2)\n",
    "model.LinearRegression(x='T2', y='T6', data = linear_model)"
   ]
  },
  {
   "cell_type": "code",
   "execution_count": 63,
   "id": "f83ccd9a",
   "metadata": {},
   "outputs": [],
   "source": [
    "path = pd.read_csv('https://archive.ics.uci.edu/ml/machine-learning-databases/00374/energydata_complete.csv')\n",
    "pd.set_option('display.max_columns', None)\n",
    "pd.set_option('display.max_rows', None)\n",
    "column_names ={'T2':'x', 'T6': 'y'}\n",
    "path=path.rename(columns=column_names)\n",
    "simple_linear_reg=path[['x', 'y']].sample(15, random_state = 2)"
   ]
  },
  {
   "cell_type": "code",
   "execution_count": 76,
   "id": "ec68a60c",
   "metadata": {},
   "outputs": [
    {
     "ename": "AttributeError",
     "evalue": "'DataFrame' object has no attribute 'fit'",
     "output_type": "error",
     "traceback": [
      "\u001b[1;31m---------------------------------------------------------------------------\u001b[0m",
      "\u001b[1;31mAttributeError\u001b[0m                            Traceback (most recent call last)",
      "\u001b[1;32m<ipython-input-76-2a6d0b0021d4>\u001b[0m in \u001b[0;36m<module>\u001b[1;34m\u001b[0m\n\u001b[1;32m----> 1\u001b[1;33m \u001b[0mmodel\u001b[0m \u001b[1;33m=\u001b[0m \u001b[0mpath\u001b[0m\u001b[1;33m.\u001b[0m\u001b[0mfit\u001b[0m\u001b[1;33m(\u001b[0m\u001b[1;34m'T2'\u001b[0m\u001b[1;33m,\u001b[0m\u001b[1;34m'T6'\u001b[0m\u001b[1;33m)\u001b[0m\u001b[1;33m\u001b[0m\u001b[1;33m\u001b[0m\u001b[0m\n\u001b[0m",
      "\u001b[1;32m~\\anaconda3\\lib\\site-packages\\pandas\\core\\generic.py\u001b[0m in \u001b[0;36m__getattr__\u001b[1;34m(self, name)\u001b[0m\n\u001b[0;32m   5463\u001b[0m             \u001b[1;32mif\u001b[0m \u001b[0mself\u001b[0m\u001b[1;33m.\u001b[0m\u001b[0m_info_axis\u001b[0m\u001b[1;33m.\u001b[0m\u001b[0m_can_hold_identifiers_and_holds_name\u001b[0m\u001b[1;33m(\u001b[0m\u001b[0mname\u001b[0m\u001b[1;33m)\u001b[0m\u001b[1;33m:\u001b[0m\u001b[1;33m\u001b[0m\u001b[1;33m\u001b[0m\u001b[0m\n\u001b[0;32m   5464\u001b[0m                 \u001b[1;32mreturn\u001b[0m \u001b[0mself\u001b[0m\u001b[1;33m[\u001b[0m\u001b[0mname\u001b[0m\u001b[1;33m]\u001b[0m\u001b[1;33m\u001b[0m\u001b[1;33m\u001b[0m\u001b[0m\n\u001b[1;32m-> 5465\u001b[1;33m             \u001b[1;32mreturn\u001b[0m \u001b[0mobject\u001b[0m\u001b[1;33m.\u001b[0m\u001b[0m__getattribute__\u001b[0m\u001b[1;33m(\u001b[0m\u001b[0mself\u001b[0m\u001b[1;33m,\u001b[0m \u001b[0mname\u001b[0m\u001b[1;33m)\u001b[0m\u001b[1;33m\u001b[0m\u001b[1;33m\u001b[0m\u001b[0m\n\u001b[0m\u001b[0;32m   5466\u001b[0m \u001b[1;33m\u001b[0m\u001b[0m\n\u001b[0;32m   5467\u001b[0m     \u001b[1;32mdef\u001b[0m \u001b[0m__setattr__\u001b[0m\u001b[1;33m(\u001b[0m\u001b[0mself\u001b[0m\u001b[1;33m,\u001b[0m \u001b[0mname\u001b[0m\u001b[1;33m:\u001b[0m \u001b[0mstr\u001b[0m\u001b[1;33m,\u001b[0m \u001b[0mvalue\u001b[0m\u001b[1;33m)\u001b[0m \u001b[1;33m->\u001b[0m \u001b[1;32mNone\u001b[0m\u001b[1;33m:\u001b[0m\u001b[1;33m\u001b[0m\u001b[1;33m\u001b[0m\u001b[0m\n",
      "\u001b[1;31mAttributeError\u001b[0m: 'DataFrame' object has no attribute 'fit'"
     ]
    }
   ],
   "source": [
    "model = path.fit('T2','T6')"
   ]
  },
  {
   "cell_type": "code",
   "execution_count": null,
   "id": "e738079e",
   "metadata": {},
   "outputs": [],
   "source": []
  }
 ],
 "metadata": {
  "kernelspec": {
   "display_name": "Python 3",
   "language": "python",
   "name": "python3"
  },
  "language_info": {
   "codemirror_mode": {
    "name": "ipython",
    "version": 3
   },
   "file_extension": ".py",
   "mimetype": "text/x-python",
   "name": "python",
   "nbconvert_exporter": "python",
   "pygments_lexer": "ipython3",
   "version": "3.8.8"
  }
 },
 "nbformat": 4,
 "nbformat_minor": 5
}
